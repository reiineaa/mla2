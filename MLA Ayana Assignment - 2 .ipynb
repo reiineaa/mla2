{
 "cells": [
  {
   "cell_type": "markdown",
   "id": "fe2ccbaa",
   "metadata": {},
   "source": [
    "## PART 1"
   ]
  },
  {
   "cell_type": "code",
   "execution_count": 1,
   "id": "f2a4f972",
   "metadata": {},
   "outputs": [],
   "source": [
    "import numpy as np\n",
    "import pandas as pd"
   ]
  },
  {
   "cell_type": "code",
   "execution_count": 2,
   "id": "07ed042c",
   "metadata": {},
   "outputs": [
    {
     "data": {
      "text/html": [
       "<div>\n",
       "<style scoped>\n",
       "    .dataframe tbody tr th:only-of-type {\n",
       "        vertical-align: middle;\n",
       "    }\n",
       "\n",
       "    .dataframe tbody tr th {\n",
       "        vertical-align: top;\n",
       "    }\n",
       "\n",
       "    .dataframe thead th {\n",
       "        text-align: right;\n",
       "    }\n",
       "</style>\n",
       "<table border=\"1\" class=\"dataframe\">\n",
       "  <thead>\n",
       "    <tr style=\"text-align: right;\">\n",
       "      <th></th>\n",
       "      <th>Avg. Area Income</th>\n",
       "      <th>Avg. Area House Age</th>\n",
       "      <th>Avg. Area Number of Rooms</th>\n",
       "      <th>Area Population</th>\n",
       "      <th>More than 3 bedrooms</th>\n",
       "      <th>Price</th>\n",
       "    </tr>\n",
       "  </thead>\n",
       "  <tbody>\n",
       "    <tr>\n",
       "      <th>0</th>\n",
       "      <td>79545.458574</td>\n",
       "      <td>5.682861</td>\n",
       "      <td>7.009188</td>\n",
       "      <td>23086.800503</td>\n",
       "      <td>1</td>\n",
       "      <td>1.059034e+06</td>\n",
       "    </tr>\n",
       "    <tr>\n",
       "      <th>1</th>\n",
       "      <td>79248.642455</td>\n",
       "      <td>6.002900</td>\n",
       "      <td>6.730821</td>\n",
       "      <td>40173.072174</td>\n",
       "      <td>1</td>\n",
       "      <td>1.505891e+06</td>\n",
       "    </tr>\n",
       "    <tr>\n",
       "      <th>2</th>\n",
       "      <td>61287.067179</td>\n",
       "      <td>5.865890</td>\n",
       "      <td>8.512727</td>\n",
       "      <td>36882.159400</td>\n",
       "      <td>1</td>\n",
       "      <td>1.058988e+06</td>\n",
       "    </tr>\n",
       "    <tr>\n",
       "      <th>3</th>\n",
       "      <td>63345.240046</td>\n",
       "      <td>7.188236</td>\n",
       "      <td>5.586729</td>\n",
       "      <td>34310.242831</td>\n",
       "      <td>1</td>\n",
       "      <td>1.260617e+06</td>\n",
       "    </tr>\n",
       "    <tr>\n",
       "      <th>4</th>\n",
       "      <td>59982.197226</td>\n",
       "      <td>5.040555</td>\n",
       "      <td>7.839388</td>\n",
       "      <td>26354.109472</td>\n",
       "      <td>1</td>\n",
       "      <td>6.309435e+05</td>\n",
       "    </tr>\n",
       "  </tbody>\n",
       "</table>\n",
       "</div>"
      ],
      "text/plain": [
       "   Avg. Area Income  Avg. Area House Age  Avg. Area Number of Rooms  \\\n",
       "0      79545.458574             5.682861                   7.009188   \n",
       "1      79248.642455             6.002900                   6.730821   \n",
       "2      61287.067179             5.865890                   8.512727   \n",
       "3      63345.240046             7.188236                   5.586729   \n",
       "4      59982.197226             5.040555                   7.839388   \n",
       "\n",
       "   Area Population  More than 3 bedrooms         Price  \n",
       "0     23086.800503                     1  1.059034e+06  \n",
       "1     40173.072174                     1  1.505891e+06  \n",
       "2     36882.159400                     1  1.058988e+06  \n",
       "3     34310.242831                     1  1.260617e+06  \n",
       "4     26354.109472                     1  6.309435e+05  "
      ]
     },
     "execution_count": 2,
     "metadata": {},
     "output_type": "execute_result"
    }
   ],
   "source": [
    "df = pd.read_csv('Ayana_dataset.csv')\n",
    "df.head()"
   ]
  },
  {
   "cell_type": "code",
   "execution_count": 3,
   "id": "07cc7327",
   "metadata": {},
   "outputs": [],
   "source": [
    "# Target variable (numerical): Price\n",
    "# Numerical features: Avg. Area Income, Avg. Area House Age, Avg. Area Number of Rooms, Area Population\n",
    "# Categorical feature (0 or 1): More than 3 bedrooms"
   ]
  },
  {
   "cell_type": "code",
   "execution_count": 4,
   "id": "2738bc55",
   "metadata": {},
   "outputs": [
    {
     "data": {
      "text/html": [
       "<div>\n",
       "<style scoped>\n",
       "    .dataframe tbody tr th:only-of-type {\n",
       "        vertical-align: middle;\n",
       "    }\n",
       "\n",
       "    .dataframe tbody tr th {\n",
       "        vertical-align: top;\n",
       "    }\n",
       "\n",
       "    .dataframe thead th {\n",
       "        text-align: right;\n",
       "    }\n",
       "</style>\n",
       "<table border=\"1\" class=\"dataframe\">\n",
       "  <thead>\n",
       "    <tr style=\"text-align: right;\">\n",
       "      <th></th>\n",
       "      <th>Avg. Area Income</th>\n",
       "      <th>Avg. Area House Age</th>\n",
       "      <th>Avg. Area Number of Rooms</th>\n",
       "      <th>Area Population</th>\n",
       "      <th>More than 3 bedrooms</th>\n",
       "      <th>Price</th>\n",
       "    </tr>\n",
       "  </thead>\n",
       "  <tbody>\n",
       "    <tr>\n",
       "      <th>count</th>\n",
       "      <td>1500.000000</td>\n",
       "      <td>1500.000000</td>\n",
       "      <td>1500.000000</td>\n",
       "      <td>1500.000000</td>\n",
       "      <td>1500.000000</td>\n",
       "      <td>1.500000e+03</td>\n",
       "    </tr>\n",
       "    <tr>\n",
       "      <th>mean</th>\n",
       "      <td>68910.747132</td>\n",
       "      <td>6.023173</td>\n",
       "      <td>7.012868</td>\n",
       "      <td>35859.591465</td>\n",
       "      <td>0.828667</td>\n",
       "      <td>1.244338e+06</td>\n",
       "    </tr>\n",
       "    <tr>\n",
       "      <th>std</th>\n",
       "      <td>10789.231409</td>\n",
       "      <td>1.005298</td>\n",
       "      <td>0.994093</td>\n",
       "      <td>9675.620111</td>\n",
       "      <td>0.376926</td>\n",
       "      <td>3.563438e+05</td>\n",
       "    </tr>\n",
       "    <tr>\n",
       "      <th>min</th>\n",
       "      <td>17796.631190</td>\n",
       "      <td>2.644304</td>\n",
       "      <td>3.236194</td>\n",
       "      <td>172.610686</td>\n",
       "      <td>0.000000</td>\n",
       "      <td>3.114052e+04</td>\n",
       "    </tr>\n",
       "    <tr>\n",
       "      <th>25%</th>\n",
       "      <td>61683.050079</td>\n",
       "      <td>5.363629</td>\n",
       "      <td>6.341175</td>\n",
       "      <td>29108.162005</td>\n",
       "      <td>1.000000</td>\n",
       "      <td>1.009035e+06</td>\n",
       "    </tr>\n",
       "    <tr>\n",
       "      <th>50%</th>\n",
       "      <td>68907.499834</td>\n",
       "      <td>6.012484</td>\n",
       "      <td>7.051623</td>\n",
       "      <td>36052.031890</td>\n",
       "      <td>1.000000</td>\n",
       "      <td>1.242700e+06</td>\n",
       "    </tr>\n",
       "    <tr>\n",
       "      <th>75%</th>\n",
       "      <td>76171.169816</td>\n",
       "      <td>6.741420</td>\n",
       "      <td>7.690384</td>\n",
       "      <td>42608.559646</td>\n",
       "      <td>1.000000</td>\n",
       "      <td>1.481942e+06</td>\n",
       "    </tr>\n",
       "    <tr>\n",
       "      <th>max</th>\n",
       "      <td>107701.748378</td>\n",
       "      <td>8.991399</td>\n",
       "      <td>9.710217</td>\n",
       "      <td>69575.449464</td>\n",
       "      <td>1.000000</td>\n",
       "      <td>2.469066e+06</td>\n",
       "    </tr>\n",
       "  </tbody>\n",
       "</table>\n",
       "</div>"
      ],
      "text/plain": [
       "       Avg. Area Income  Avg. Area House Age  Avg. Area Number of Rooms  \\\n",
       "count       1500.000000          1500.000000                1500.000000   \n",
       "mean       68910.747132             6.023173                   7.012868   \n",
       "std        10789.231409             1.005298                   0.994093   \n",
       "min        17796.631190             2.644304                   3.236194   \n",
       "25%        61683.050079             5.363629                   6.341175   \n",
       "50%        68907.499834             6.012484                   7.051623   \n",
       "75%        76171.169816             6.741420                   7.690384   \n",
       "max       107701.748378             8.991399                   9.710217   \n",
       "\n",
       "       Area Population  More than 3 bedrooms         Price  \n",
       "count      1500.000000           1500.000000  1.500000e+03  \n",
       "mean      35859.591465              0.828667  1.244338e+06  \n",
       "std        9675.620111              0.376926  3.563438e+05  \n",
       "min         172.610686              0.000000  3.114052e+04  \n",
       "25%       29108.162005              1.000000  1.009035e+06  \n",
       "50%       36052.031890              1.000000  1.242700e+06  \n",
       "75%       42608.559646              1.000000  1.481942e+06  \n",
       "max       69575.449464              1.000000  2.469066e+06  "
      ]
     },
     "execution_count": 4,
     "metadata": {},
     "output_type": "execute_result"
    }
   ],
   "source": [
    "df.describe()"
   ]
  },
  {
   "cell_type": "code",
   "execution_count": 5,
   "id": "62a7fd51",
   "metadata": {},
   "outputs": [
    {
     "data": {
      "text/html": [
       "<div>\n",
       "<style scoped>\n",
       "    .dataframe tbody tr th:only-of-type {\n",
       "        vertical-align: middle;\n",
       "    }\n",
       "\n",
       "    .dataframe tbody tr th {\n",
       "        vertical-align: top;\n",
       "    }\n",
       "\n",
       "    .dataframe thead th {\n",
       "        text-align: right;\n",
       "    }\n",
       "</style>\n",
       "<table border=\"1\" class=\"dataframe\">\n",
       "  <thead>\n",
       "    <tr style=\"text-align: right;\">\n",
       "      <th></th>\n",
       "      <th>Avg. Area Income</th>\n",
       "      <th>Avg. Area House Age</th>\n",
       "      <th>Avg. Area Number of Rooms</th>\n",
       "      <th>Area Population</th>\n",
       "      <th>More than 3 bedrooms</th>\n",
       "      <th>Price</th>\n",
       "    </tr>\n",
       "  </thead>\n",
       "  <tbody>\n",
       "    <tr>\n",
       "      <th>Avg. Area Income</th>\n",
       "      <td>1.000000</td>\n",
       "      <td>-0.013384</td>\n",
       "      <td>0.039575</td>\n",
       "      <td>-0.010530</td>\n",
       "      <td>0.025504</td>\n",
       "      <td>0.660597</td>\n",
       "    </tr>\n",
       "    <tr>\n",
       "      <th>Avg. Area House Age</th>\n",
       "      <td>-0.013384</td>\n",
       "      <td>1.000000</td>\n",
       "      <td>0.016607</td>\n",
       "      <td>-0.046009</td>\n",
       "      <td>0.039350</td>\n",
       "      <td>0.444615</td>\n",
       "    </tr>\n",
       "    <tr>\n",
       "      <th>Avg. Area Number of Rooms</th>\n",
       "      <td>0.039575</td>\n",
       "      <td>0.016607</td>\n",
       "      <td>1.000000</td>\n",
       "      <td>-0.009089</td>\n",
       "      <td>0.353747</td>\n",
       "      <td>0.365764</td>\n",
       "    </tr>\n",
       "    <tr>\n",
       "      <th>Area Population</th>\n",
       "      <td>-0.010530</td>\n",
       "      <td>-0.046009</td>\n",
       "      <td>-0.009089</td>\n",
       "      <td>1.000000</td>\n",
       "      <td>-0.033475</td>\n",
       "      <td>0.375750</td>\n",
       "    </tr>\n",
       "    <tr>\n",
       "      <th>More than 3 bedrooms</th>\n",
       "      <td>0.025504</td>\n",
       "      <td>0.039350</td>\n",
       "      <td>0.353747</td>\n",
       "      <td>-0.033475</td>\n",
       "      <td>1.000000</td>\n",
       "      <td>0.138153</td>\n",
       "    </tr>\n",
       "    <tr>\n",
       "      <th>Price</th>\n",
       "      <td>0.660597</td>\n",
       "      <td>0.444615</td>\n",
       "      <td>0.365764</td>\n",
       "      <td>0.375750</td>\n",
       "      <td>0.138153</td>\n",
       "      <td>1.000000</td>\n",
       "    </tr>\n",
       "  </tbody>\n",
       "</table>\n",
       "</div>"
      ],
      "text/plain": [
       "                           Avg. Area Income  Avg. Area House Age  \\\n",
       "Avg. Area Income                   1.000000            -0.013384   \n",
       "Avg. Area House Age               -0.013384             1.000000   \n",
       "Avg. Area Number of Rooms          0.039575             0.016607   \n",
       "Area Population                   -0.010530            -0.046009   \n",
       "More than 3 bedrooms               0.025504             0.039350   \n",
       "Price                              0.660597             0.444615   \n",
       "\n",
       "                           Avg. Area Number of Rooms  Area Population  \\\n",
       "Avg. Area Income                            0.039575        -0.010530   \n",
       "Avg. Area House Age                         0.016607        -0.046009   \n",
       "Avg. Area Number of Rooms                   1.000000        -0.009089   \n",
       "Area Population                            -0.009089         1.000000   \n",
       "More than 3 bedrooms                        0.353747        -0.033475   \n",
       "Price                                       0.365764         0.375750   \n",
       "\n",
       "                           More than 3 bedrooms     Price  \n",
       "Avg. Area Income                       0.025504  0.660597  \n",
       "Avg. Area House Age                    0.039350  0.444615  \n",
       "Avg. Area Number of Rooms              0.353747  0.365764  \n",
       "Area Population                       -0.033475  0.375750  \n",
       "More than 3 bedrooms                   1.000000  0.138153  \n",
       "Price                                  0.138153  1.000000  "
      ]
     },
     "execution_count": 5,
     "metadata": {},
     "output_type": "execute_result"
    }
   ],
   "source": [
    "df.corr()"
   ]
  },
  {
   "cell_type": "code",
   "execution_count": 6,
   "id": "29a56e18",
   "metadata": {},
   "outputs": [],
   "source": [
    "# All 4 numerical features have at least weak correlation (>0.3) with the Target variable. \n",
    "# Avg. Area Income has the strongest correlation (>0.6) with the Target variable."
   ]
  },
  {
   "cell_type": "code",
   "execution_count": 7,
   "id": "db0e8b47",
   "metadata": {},
   "outputs": [
    {
     "data": {
      "text/plain": [
       "Avg. Area Income             1500\n",
       "Avg. Area House Age          1500\n",
       "Avg. Area Number of Rooms    1500\n",
       "Area Population              1500\n",
       "More than 3 bedrooms            2\n",
       "Price                        1500\n",
       "dtype: int64"
      ]
     },
     "execution_count": 7,
     "metadata": {},
     "output_type": "execute_result"
    }
   ],
   "source": [
    "# Checking that rows are unique \n",
    "df.nunique()"
   ]
  },
  {
   "cell_type": "markdown",
   "id": "307fc51f",
   "metadata": {},
   "source": [
    "## PART 2"
   ]
  },
  {
   "cell_type": "code",
   "execution_count": 8,
   "id": "892e3ea6",
   "metadata": {},
   "outputs": [],
   "source": [
    "from sklearn.model_selection import train_test_split\n",
    "from sklearn.linear_model import LinearRegression \n",
    "from sklearn.metrics import mean_squared_error\n",
    "from sklearn.metrics import mean_absolute_error\n",
    "from sklearn.metrics import r2_score"
   ]
  },
  {
   "cell_type": "code",
   "execution_count": 9,
   "id": "456dddd1",
   "metadata": {},
   "outputs": [
    {
     "name": "stdout",
     "output_type": "stream",
     "text": [
      "MSE: 43194716930.946526\n",
      "RMSE: 207833.38743076514\n",
      "MAE: 167061.20576048188\n",
      "R2: 0.6460185767926294\n"
     ]
    }
   ],
   "source": [
    "# Linear regression\n",
    "X = df[['Avg. Area Income', 'Avg. Area House Age']]\n",
    "y = df.Price\n",
    "\n",
    "X_train, X_test, y_train, y_test = train_test_split(X, y, test_size=0.33, random_state=123)\n",
    "\n",
    "model_lr = LinearRegression()\n",
    "model_lr.fit(X_train,y_train)\n",
    "\n",
    "y_pred = model_lr.predict(X_test)\n",
    "\n",
    "print('MSE:', mean_squared_error(y_test, y_pred, squared=True))\n",
    "print('RMSE:', mean_squared_error(y_test, y_pred, squared=False))\n",
    "print('MAE:', mean_absolute_error(y_test, y_pred))\n",
    "print('R2:', r2_score(y_test, y_pred))"
   ]
  },
  {
   "cell_type": "markdown",
   "id": "4f6ff039",
   "metadata": {},
   "source": [
    "## PART 3"
   ]
  },
  {
   "cell_type": "code",
   "execution_count": 10,
   "id": "5299b5f6",
   "metadata": {},
   "outputs": [],
   "source": [
    "from sklearn.tree import DecisionTreeClassifier\n",
    "from sklearn.metrics import confusion_matrix\n",
    "from sklearn.metrics import precision_score\n",
    "from sklearn.metrics import recall_score\n",
    "from sklearn.metrics import f1_score"
   ]
  },
  {
   "cell_type": "code",
   "execution_count": 11,
   "id": "d0425005",
   "metadata": {},
   "outputs": [],
   "source": [
    "# Decision tree model\n",
    "# Let's create a new target variable but categorical (Price > 1 mln $), and then do classification on it"
   ]
  },
  {
   "cell_type": "code",
   "execution_count": 12,
   "id": "35439bac",
   "metadata": {},
   "outputs": [
    {
     "data": {
      "text/html": [
       "<div>\n",
       "<style scoped>\n",
       "    .dataframe tbody tr th:only-of-type {\n",
       "        vertical-align: middle;\n",
       "    }\n",
       "\n",
       "    .dataframe tbody tr th {\n",
       "        vertical-align: top;\n",
       "    }\n",
       "\n",
       "    .dataframe thead th {\n",
       "        text-align: right;\n",
       "    }\n",
       "</style>\n",
       "<table border=\"1\" class=\"dataframe\">\n",
       "  <thead>\n",
       "    <tr style=\"text-align: right;\">\n",
       "      <th></th>\n",
       "      <th>Avg. Area Income</th>\n",
       "      <th>Avg. Area House Age</th>\n",
       "      <th>Avg. Area Number of Rooms</th>\n",
       "      <th>Area Population</th>\n",
       "      <th>More than 3 bedrooms</th>\n",
       "      <th>Price</th>\n",
       "      <th>new_target</th>\n",
       "    </tr>\n",
       "  </thead>\n",
       "  <tbody>\n",
       "    <tr>\n",
       "      <th>0</th>\n",
       "      <td>79545.458574</td>\n",
       "      <td>5.682861</td>\n",
       "      <td>7.009188</td>\n",
       "      <td>23086.800503</td>\n",
       "      <td>1</td>\n",
       "      <td>1.059034e+06</td>\n",
       "      <td>1</td>\n",
       "    </tr>\n",
       "    <tr>\n",
       "      <th>1</th>\n",
       "      <td>79248.642455</td>\n",
       "      <td>6.002900</td>\n",
       "      <td>6.730821</td>\n",
       "      <td>40173.072174</td>\n",
       "      <td>1</td>\n",
       "      <td>1.505891e+06</td>\n",
       "      <td>1</td>\n",
       "    </tr>\n",
       "    <tr>\n",
       "      <th>2</th>\n",
       "      <td>61287.067179</td>\n",
       "      <td>5.865890</td>\n",
       "      <td>8.512727</td>\n",
       "      <td>36882.159400</td>\n",
       "      <td>1</td>\n",
       "      <td>1.058988e+06</td>\n",
       "      <td>1</td>\n",
       "    </tr>\n",
       "    <tr>\n",
       "      <th>3</th>\n",
       "      <td>63345.240046</td>\n",
       "      <td>7.188236</td>\n",
       "      <td>5.586729</td>\n",
       "      <td>34310.242831</td>\n",
       "      <td>1</td>\n",
       "      <td>1.260617e+06</td>\n",
       "      <td>1</td>\n",
       "    </tr>\n",
       "    <tr>\n",
       "      <th>4</th>\n",
       "      <td>59982.197226</td>\n",
       "      <td>5.040555</td>\n",
       "      <td>7.839388</td>\n",
       "      <td>26354.109472</td>\n",
       "      <td>1</td>\n",
       "      <td>6.309435e+05</td>\n",
       "      <td>0</td>\n",
       "    </tr>\n",
       "  </tbody>\n",
       "</table>\n",
       "</div>"
      ],
      "text/plain": [
       "   Avg. Area Income  Avg. Area House Age  Avg. Area Number of Rooms  \\\n",
       "0      79545.458574             5.682861                   7.009188   \n",
       "1      79248.642455             6.002900                   6.730821   \n",
       "2      61287.067179             5.865890                   8.512727   \n",
       "3      63345.240046             7.188236                   5.586729   \n",
       "4      59982.197226             5.040555                   7.839388   \n",
       "\n",
       "   Area Population  More than 3 bedrooms         Price  new_target  \n",
       "0     23086.800503                     1  1.059034e+06           1  \n",
       "1     40173.072174                     1  1.505891e+06           1  \n",
       "2     36882.159400                     1  1.058988e+06           1  \n",
       "3     34310.242831                     1  1.260617e+06           1  \n",
       "4     26354.109472                     1  6.309435e+05           0  "
      ]
     },
     "execution_count": 12,
     "metadata": {},
     "output_type": "execute_result"
    }
   ],
   "source": [
    "df['new_target'] = 0\n",
    "df.loc[df.Price > 1000000, 'new_target'] = 1\n",
    "df.head()"
   ]
  },
  {
   "cell_type": "code",
   "execution_count": 13,
   "id": "69231201",
   "metadata": {},
   "outputs": [
    {
     "name": "stdout",
     "output_type": "stream",
     "text": [
      "Confusion Matrix: [[ 40  70]\n",
      " [ 80 305]]\n",
      "Precision: 0.8133333333333334\n",
      "Recall: 0.7922077922077922\n",
      "F1: 0.8026315789473685\n"
     ]
    }
   ],
   "source": [
    "X = df[['Avg. Area Income', 'More than 3 bedrooms']]\n",
    "y = df.new_target\n",
    "\n",
    "X_train, X_test, y_train, y_test = train_test_split(X, y, test_size=0.33, random_state=123)\n",
    "\n",
    "dt_clf = DecisionTreeClassifier()\n",
    "dt_clf.fit(X_train, y_train)\n",
    "\n",
    "y_class = dt_clf.predict(X_test)\n",
    "\n",
    "print('Confusion Matrix:', confusion_matrix(y_test, y_class))\n",
    "print('Precision:', precision_score(y_test, y_class))\n",
    "print('Recall:', recall_score(y_test, y_class))\n",
    "print('F1:', f1_score(y_test, y_class))"
   ]
  },
  {
   "cell_type": "code",
   "execution_count": 14,
   "id": "dc1a5b1f",
   "metadata": {},
   "outputs": [
    {
     "data": {
      "text/plain": [
       "(40, 70, 80, 305)"
      ]
     },
     "execution_count": 14,
     "metadata": {},
     "output_type": "execute_result"
    }
   ],
   "source": [
    "# Alternative look on Confusion Matrix\n",
    "tn, fp, fn, tp = confusion_matrix(y_test, y_class).ravel()\n",
    "(tn, fp, fn, tp)"
   ]
  },
  {
   "cell_type": "markdown",
   "id": "e3a4361f",
   "metadata": {},
   "source": [
    "## PART 4"
   ]
  },
  {
   "cell_type": "code",
   "execution_count": null,
   "id": "187b6193",
   "metadata": {},
   "outputs": [],
   "source": []
  }
 ],
 "metadata": {
  "kernelspec": {
   "display_name": "Python 3",
   "language": "python",
   "name": "python3"
  },
  "language_info": {
   "codemirror_mode": {
    "name": "ipython",
    "version": 3
   },
   "file_extension": ".py",
   "mimetype": "text/x-python",
   "name": "python",
   "nbconvert_exporter": "python",
   "pygments_lexer": "ipython3",
   "version": "3.8.8"
  }
 },
 "nbformat": 4,
 "nbformat_minor": 5
}
